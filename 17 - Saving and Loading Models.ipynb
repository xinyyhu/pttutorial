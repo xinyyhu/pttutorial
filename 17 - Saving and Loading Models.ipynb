{
 "cells": [
  {
   "cell_type": "code",
   "execution_count": null,
   "metadata": {},
   "outputs": [],
   "source": [
    "# 三种方法\n",
    "\n",
    "import torch\n",
    "import torch.nn as nn\n",
    "\n",
    "torch.save(arg, PATH)\n",
    "\n",
    "torch.load(PATH)\n",
    "\n",
    "model.load_state_dict(arg)\n"
   ]
  },
  {
   "cell_type": "markdown",
   "metadata": {},
   "source": [
    "- 1. No.1 lazy method, .save"
   ]
  },
  {
   "cell_type": "code",
   "execution_count": null,
   "metadata": {},
   "outputs": [],
   "source": [
    "import torch\n",
    "import torch.nn as nn\n",
    "\n",
    "\n",
    "#------- complete model --------\n",
    "torch.save(model, PATH)\n",
    "\n",
    "\n",
    "# model class must be defined somewhere\n",
    "# 上一步保存了模型，所以这里是load路径\n",
    "model = torch.load(PATH)\n",
    "model.eavl()\n",
    "\n"
   ]
  },
  {
   "cell_type": "markdown",
   "metadata": {},
   "source": [
    "- 2. a recpmmended method, only enough parameters of the training model and to inference"
   ]
  },
  {
   "cell_type": "code",
   "execution_count": null,
   "metadata": {},
   "outputs": [],
   "source": [
    "import torch\n",
    "import torch.nn as nn\n",
    "\n",
    "#===== state dict ------\n",
    "torch.save(model.state_dict(), PATH)\n",
    "\n",
    "\n",
    "# model must be create again with parameters\n",
    "# 上一步保存了模型的参数，所以这里要先建模型，然后在导入路径\n",
    "model = Model(*args, **kwargs)\n",
    "model.load_state_dict(torch.load(PATH))\n",
    "model.eval()\n",
    "\n"
   ]
  },
  {
   "cell_type": "markdown",
   "metadata": {},
   "source": [
    "# code\n"
   ]
  },
  {
   "cell_type": "code",
   "execution_count": 9,
   "metadata": {},
   "outputs": [
    {
     "name": "stdout",
     "output_type": "stream",
     "text": [
      "Parameter containing:\n",
      "tensor([[ 0.3497, -0.3392,  0.1519, -0.2422,  0.3725,  0.0621]],\n",
      "       requires_grad=True)\n",
      "Parameter containing:\n",
      "tensor([0.2118], requires_grad=True)\n"
     ]
    }
   ],
   "source": [
    "# model class\n",
    "import torch\n",
    "import torch.nn as nn\n",
    "\n",
    "class Model(nn.Module):\n",
    "    def __init__(self, n_input_features):\n",
    "        super().__init__()\n",
    "        self.linear = nn.Linear(n_input_features, 1)\n",
    "        \n",
    "    def forward(self, x):\n",
    "        y_pred = torch.sigmoid(self.linear(x))\n",
    "        return y_pred\n",
    "    \n",
    "model = Model(n_input_features=6)  #实例化了Model，得到了初始化的参数，即便没有training\n",
    "\n",
    "\n",
    "for param in model.parameters():\n",
    "    print(param)   \n",
    "    "
   ]
  },
  {
   "cell_type": "markdown",
   "metadata": {},
   "source": [
    "- method 1"
   ]
  },
  {
   "cell_type": "code",
   "execution_count": 12,
   "metadata": {},
   "outputs": [
    {
     "name": "stdout",
     "output_type": "stream",
     "text": [
      "Parameter containing:\n",
      "tensor([[ 0.3497, -0.3392,  0.1519, -0.2422,  0.3725,  0.0621]],\n",
      "       requires_grad=True)\n",
      "Parameter containing:\n",
      "tensor([0.2118], requires_grad=True)\n"
     ]
    }
   ],
   "source": [
    "# training model\n",
    "FILE = 'model.pth'\n",
    "torch.save(model, FILE)\n",
    "\n",
    "\n",
    "# load model, 相当于省去了定义model类的一步\n",
    "model = torch.load(FILE)   # 加载整个模型\n",
    "model.eval()    # 推理阶段\n",
    "\n",
    "\n",
    "# 打印参数，包含权重和偏置\n",
    "for param in model.parameters():\n",
    "    print(param)     # 得到权重和偏置\n",
    "\n"
   ]
  },
  {
   "cell_type": "markdown",
   "metadata": {},
   "source": [
    "- method 2"
   ]
  },
  {
   "cell_type": "code",
   "execution_count": 15,
   "metadata": {},
   "outputs": [
    {
     "name": "stdout",
     "output_type": "stream",
     "text": [
      "Parameter containing:\n",
      "tensor([[ 0.3497, -0.3392,  0.1519, -0.2422,  0.3725,  0.0621]],\n",
      "       requires_grad=True)\n",
      "Parameter containing:\n",
      "tensor([0.2118], requires_grad=True)\n"
     ]
    }
   ],
   "source": [
    "# training model\n",
    "FILE_ = 'model_.pth'\n",
    "torch.save(model.state_dict(), FILE_)\n",
    "\n",
    "\n",
    "# 定义模型，再load model\n",
    "loaded_model = Model(n_input_features=6)\n",
    "loaded_model.load_state_dict(torch.load(FILE_))  # 加载模型参数\n",
    "loaded_model.eval()    # 推理阶段\n",
    "\n",
    "\n",
    "# 打印参数，包含权重和偏置\n",
    "for param in loaded_model.parameters():\n",
    "    print(param)     # 得到权重和偏置"
   ]
  },
  {
   "cell_type": "markdown",
   "metadata": {},
   "source": [
    "- state_dict长什么样"
   ]
  },
  {
   "cell_type": "code",
   "execution_count": 17,
   "metadata": {},
   "outputs": [
    {
     "name": "stdout",
     "output_type": "stream",
     "text": [
      "OrderedDict([('linear.weight', tensor([[ 0.2538,  0.3261,  0.2457,  0.0239,  0.2082, -0.2203]])), ('linear.bias', tensor([0.2289]))])\n",
      "odict_keys(['linear.weight', 'linear.bias'])\n"
     ]
    }
   ],
   "source": [
    "import torch\n",
    "import torch.nn as nn\n",
    "\n",
    "class Model(nn.Module):\n",
    "    def __init__(self, n_input_features):\n",
    "        super().__init__()\n",
    "        self.linear = nn.Linear(n_input_features, 1)\n",
    "        \n",
    "    def forward(self, x):\n",
    "        y_pred = torch.sigmoid(self.linear(x))\n",
    "        return y_pred\n",
    "    \n",
    "model = Model(n_input_features=6)  #实例化了Model，得到了初始化的参数，即便没有training\n",
    "\n",
    "print(model.state_dict())\n",
    "print(model.state_dict().keys())"
   ]
  },
  {
   "cell_type": "code",
   "execution_count": 18,
   "metadata": {},
   "outputs": [
    {
     "name": "stdout",
     "output_type": "stream",
     "text": [
      "{'state': {}, 'param_groups': [{'lr': 0.01, 'momentum': 0, 'dampening': 0, 'weight_decay': 0, 'nesterov': False, 'maximize': False, 'foreach': None, 'differentiable': False, 'params': [0, 1]}]}\n"
     ]
    }
   ],
   "source": [
    "# 还可以用在优化器上\n",
    "learning_rate = 0.01\n",
    "optimizer = torch.optim.SGD(model.parameters(),lr=learning_rate)\n",
    "print(optimizer.state_dict())\n"
   ]
  },
  {
   "cell_type": "markdown",
   "metadata": {},
   "source": [
    "- 在training过程中可以停在某个地方，并save一个checkpoint"
   ]
  },
  {
   "cell_type": "code",
   "execution_count": 19,
   "metadata": {},
   "outputs": [],
   "source": [
    "checkpoint = {\n",
    "    \"epoch\": 90,\n",
    "    \"model_state\": model.state_dict(),\n",
    "    \"optim_state\": optimizer.state_dict()\n",
    "}\n",
    "\n",
    "torch.save(checkpoint, \"checkpoint.pth\")\n"
   ]
  },
  {
   "cell_type": "code",
   "execution_count": 20,
   "metadata": {},
   "outputs": [
    {
     "name": "stdout",
     "output_type": "stream",
     "text": [
      "OrderedDict([('linear.weight', tensor([[ 0.2538,  0.3261,  0.2457,  0.0239,  0.2082, -0.2203]])), ('linear.bias', tensor([0.2289]))])\n",
      "{'state': {}, 'param_groups': [{'lr': 0.01, 'momentum': 0, 'dampening': 0, 'weight_decay': 0, 'nesterov': False, 'maximize': False, 'foreach': None, 'differentiable': False, 'params': [0, 1]}]}\n"
     ]
    }
   ],
   "source": [
    "# load checkpoint\n",
    "loaded_checkpoint = torch.load(\"checkpoint.pth\")\n",
    "\n",
    "model = Model(n_input_features=6)\n",
    "optimizer = torch.optim.SGD(model.parameters(), lr=0)\n",
    "\n",
    "epoch = loaded_checkpoint[\"epoch\"]\n",
    "model.load_state_dict(loaded_checkpoint[\"model_state\"])\n",
    "optimizer.load_state_dict(loaded_checkpoint[\"optim_state\"])\n",
    "\n",
    "print(model.state_dict())\n",
    "print(optimizer.state_dict())   # 如果lr是0.01，就load成功了\n"
   ]
  },
  {
   "cell_type": "markdown",
   "metadata": {},
   "source": [
    "# - transfer from GPU and CPU"
   ]
  },
  {
   "cell_type": "code",
   "execution_count": null,
   "metadata": {},
   "outputs": [],
   "source": [
    "# GPU to CPU\n",
    "\n",
    "device = torch.device('cuda')\n",
    "model.to(device)\n",
    "torch.save(model.state_dict(), PATH)\n",
    "\n",
    "device = torch.device('cpu')\n",
    "model = Model(*args, **kwargs)\n",
    "model.load_state_dict(torch.load(PATH, map_location=device))"
   ]
  },
  {
   "cell_type": "code",
   "execution_count": null,
   "metadata": {},
   "outputs": [],
   "source": [
    "# GPU to GPU\n",
    "device = torch.device('cuda')\n",
    "model.to(device)\n",
    "model.save(model.state_dict(), PATH)\n",
    "\n",
    "model = Model(*args, **kwargs)\n",
    "model.load_state_dict(torch.load(PATH))\n",
    "model.to(device)   # 把model发送到device\n"
   ]
  },
  {
   "cell_type": "code",
   "execution_count": null,
   "metadata": {},
   "outputs": [],
   "source": [
    "# GPU to GPU\n",
    "torch.save(model.state_dict(), PATH)\n",
    "\n",
    "device = torch.to('cuda')\n",
    "model = Model(*args, **kwargs)\n",
    "model.load_state_dict(torch.load(PATH, map_location='cuda'))\n",
    "model.to(device)   # 把model发送到device\n"
   ]
  },
  {
   "cell_type": "code",
   "execution_count": null,
   "metadata": {},
   "outputs": [],
   "source": []
  },
  {
   "cell_type": "code",
   "execution_count": null,
   "metadata": {},
   "outputs": [],
   "source": []
  },
  {
   "cell_type": "code",
   "execution_count": null,
   "metadata": {},
   "outputs": [],
   "source": []
  }
 ],
 "metadata": {
  "kernelspec": {
   "display_name": "pytorch",
   "language": "python",
   "name": "python3"
  },
  "language_info": {
   "codemirror_mode": {
    "name": "ipython",
    "version": 3
   },
   "file_extension": ".py",
   "mimetype": "text/x-python",
   "name": "python",
   "nbconvert_exporter": "python",
   "pygments_lexer": "ipython3",
   "version": "3.11.7"
  }
 },
 "nbformat": 4,
 "nbformat_minor": 2
}
