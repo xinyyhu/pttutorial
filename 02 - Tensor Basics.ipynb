{
 "cells": [
  {
   "cell_type": "code",
   "execution_count": 214,
   "id": "ef102c28",
   "metadata": {},
   "outputs": [],
   "source": [
    "import torch\n",
    "import numpy as np\n",
    "import sys"
   ]
  },
  {
   "cell_type": "code",
   "execution_count": 2,
   "id": "45266582",
   "metadata": {},
   "outputs": [
    {
     "data": {
      "text/plain": [
       "True"
      ]
     },
     "execution_count": 2,
     "metadata": {},
     "output_type": "execute_result"
    }
   ],
   "source": [
    "torch.cuda.is_available()"
   ]
  },
  {
   "cell_type": "code",
   "execution_count": 41,
   "id": "f308dcc9",
   "metadata": {},
   "outputs": [
    {
     "name": "stdout",
     "output_type": "stream",
     "text": [
      "tensor([1.1788e-05, 0.0000e+00]) \n",
      " tensor([[6.3085e-33, 1.9520e-42, 0.0000e+00, 0.0000e+00],\n",
      "        [0.0000e+00, 0.0000e+00, 0.0000e+00, 0.0000e+00],\n",
      "        [0.0000e+00, 0.0000e+00, 0.0000e+00, 0.0000e+00]])\n"
     ]
    }
   ],
   "source": [
    "x = torch.empty(2)\n",
    "y = torch.empty(3, 4)\n",
    "# print(x)\n",
    "# print(y)\n",
    "print(x, \"\\n\", y)"
   ]
  },
  {
   "cell_type": "code",
   "execution_count": 42,
   "id": "a528ad8e",
   "metadata": {},
   "outputs": [
    {
     "data": {
      "text/plain": [
       "device(type='cpu')"
      ]
     },
     "execution_count": 42,
     "metadata": {},
     "output_type": "execute_result"
    }
   ],
   "source": [
    "#测试是cpu还是gpu在算\n",
    "torch.tensor([1,2]).device"
   ]
  },
  {
   "cell_type": "code",
   "execution_count": 43,
   "id": "3c1460c2",
   "metadata": {},
   "outputs": [
    {
     "data": {
      "text/plain": [
       "device(type='cuda', index=0)"
      ]
     },
     "execution_count": 43,
     "metadata": {},
     "output_type": "execute_result"
    }
   ],
   "source": [
    "#设置gpu为默认device\n",
    "torch.set_default_device('cuda')\n",
    "torch.tensor([2,3]).device"
   ]
  },
  {
   "cell_type": "code",
   "execution_count": 47,
   "id": "415a1211",
   "metadata": {},
   "outputs": [
    {
     "data": {
      "text/plain": [
       "tensor([[0.5247, 0.0479, 0.7826],\n",
       "        [0.6337, 0.6519, 0.1686]], device='cuda:0')"
      ]
     },
     "execution_count": 47,
     "metadata": {},
     "output_type": "execute_result"
    }
   ],
   "source": [
    "#rand是0~1之间的二次分布\n",
    "torch.rand(2,3)"
   ]
  },
  {
   "cell_type": "code",
   "execution_count": 48,
   "id": "693685e1",
   "metadata": {},
   "outputs": [
    {
     "data": {
      "text/plain": [
       "tensor([[-0.4055, -1.4455,  1.0045],\n",
       "        [ 0.0325,  0.0999,  0.9181]], device='cuda:0')"
      ]
     },
     "execution_count": 48,
     "metadata": {},
     "output_type": "execute_result"
    }
   ],
   "source": [
    "#均值0方差1的二次分布\n",
    "torch.randn(2,3)"
   ]
  },
  {
   "cell_type": "code",
   "execution_count": 55,
   "id": "6cfbe0ce",
   "metadata": {},
   "outputs": [
    {
     "data": {
      "text/plain": [
       "tensor([[3, 3, 2],\n",
       "        [2, 2, 2]], device='cuda:0')"
      ]
     },
     "execution_count": 55,
     "metadata": {},
     "output_type": "execute_result"
    }
   ],
   "source": [
    "#某整数区间的二次分布\n",
    "torch.randint(2,4,(2,3))"
   ]
  },
  {
   "cell_type": "code",
   "execution_count": 58,
   "id": "0ff2b7ca",
   "metadata": {},
   "outputs": [
    {
     "data": {
      "text/plain": [
       "(tensor([[0., 0., 0.],\n",
       "         [0., 0., 0.]], device='cuda:0'),\n",
       " tensor([[1., 1., 1.],\n",
       "         [1., 1., 1.]], device='cuda:0'))"
      ]
     },
     "execution_count": 58,
     "metadata": {},
     "output_type": "execute_result"
    }
   ],
   "source": [
    "x = torch.zeros(2,3)\n",
    "y = torch.ones(2,3)\n",
    "x, y"
   ]
  },
  {
   "cell_type": "code",
   "execution_count": 64,
   "id": "bd44bb4d",
   "metadata": {},
   "outputs": [
    {
     "data": {
      "text/plain": [
       "(torch.Size([2, 3]),\n",
       " torch.Size([2, 3]),\n",
       " torch.Size([2, 3]),\n",
       " torch.Size([2, 3]))"
      ]
     },
     "execution_count": 64,
     "metadata": {},
     "output_type": "execute_result"
    }
   ],
   "source": [
    "#torch.tensor.shape是属性，tensor.size是方法，文档中放在了一起，几乎一样\n",
    "x.shape, y.shape, x.size(), y.size()"
   ]
  },
  {
   "cell_type": "code",
   "execution_count": 65,
   "id": "34504a11",
   "metadata": {},
   "outputs": [
    {
     "data": {
      "text/plain": [
       "('torch.cuda.FloatTensor', torch.float32)"
      ]
     },
     "execution_count": 65,
     "metadata": {},
     "output_type": "execute_result"
    }
   ],
   "source": [
    "#torch.tensor.type是方法，会显示tensor类型，而dtype则是具体的类型，参看tensor网页\n",
    "x.type(), x.dtype"
   ]
  },
  {
   "cell_type": "code",
   "execution_count": 80,
   "id": "c5f495bf",
   "metadata": {},
   "outputs": [
    {
     "data": {
      "text/plain": [
       "(tensor([[1.+0.j, 1.+0.j],\n",
       "         [1.+0.j, 1.+0.j]]),\n",
       " 'torch.ComplexFloatTensor',\n",
       " torch.complex64,\n",
       " device(type='cpu'),\n",
       " torch.Size([2, 2]),\n",
       " torch.Size([2, 2]))"
      ]
     },
     "execution_count": 80,
     "metadata": {},
     "output_type": "execute_result"
    }
   ],
   "source": [
    "x = torch.ones(2,2, dtype=torch.complex64, device='cpu')\n",
    "x, x.type(), x.dtype, x.device, x.size(), x.shape"
   ]
  },
  {
   "cell_type": "code",
   "execution_count": 71,
   "id": "ea5b22bd",
   "metadata": {},
   "outputs": [
    {
     "data": {
      "text/plain": [
       "tensor([[0., 0., 0.],\n",
       "        [0., 0., 0.]], device='cuda:0')"
      ]
     },
     "execution_count": 71,
     "metadata": {},
     "output_type": "execute_result"
    }
   ],
   "source": [
    "torch.zeros(2,3)"
   ]
  },
  {
   "cell_type": "code",
   "execution_count": 81,
   "id": "6073ec6b",
   "metadata": {},
   "outputs": [
    {
     "data": {
      "text/plain": [
       "tensor([[1, 2],\n",
       "        [2, 3]], device='cuda:0', dtype=torch.int32)"
      ]
     },
     "execution_count": 81,
     "metadata": {},
     "output_type": "execute_result"
    }
   ],
   "source": [
    "torch.tensor([[1,2],[2,3]], dtype=torch.int)"
   ]
  },
  {
   "cell_type": "markdown",
   "id": "68b5aa66",
   "metadata": {},
   "source": [
    "运算"
   ]
  },
  {
   "cell_type": "code",
   "execution_count": 86,
   "id": "8d2e4777",
   "metadata": {},
   "outputs": [
    {
     "name": "stdout",
     "output_type": "stream",
     "text": [
      "tensor([[0.1634, 0.9182],\n",
      "        [0.7754, 0.2558]], device='cuda:0')\n",
      "tensor([[0.1416, 0.8078],\n",
      "        [0.0343, 0.8846]], device='cuda:0')\n",
      "tensor([[0.3051, 1.7260],\n",
      "        [0.8097, 1.1404]], device='cuda:0')\n",
      "tensor([[0.3051, 1.7260],\n",
      "        [0.8097, 1.1404]], device='cuda:0')\n"
     ]
    }
   ],
   "source": [
    "#torch.add和“+”原理一样\n",
    "x = torch.rand(2,2)\n",
    "y = torch.rand(2,2)\n",
    "print(x)\n",
    "print(y)\n",
    "print(x + y)\n",
    "print(torch.add(x,y))"
   ]
  },
  {
   "cell_type": "code",
   "execution_count": 92,
   "id": "c455bb02",
   "metadata": {},
   "outputs": [
    {
     "name": "stdout",
     "output_type": "stream",
     "text": [
      "tensor([[1., 1., 1.],\n",
      "        [1., 1., 1.]], device='cuda:0', dtype=torch.float64)\n",
      "tensor([[0.5000, 0.5000, 0.5000],\n",
      "        [0.5000, 0.5000, 0.5000]], device='cuda:0', dtype=torch.float64)\n"
     ]
    },
    {
     "data": {
      "text/plain": [
       "(tensor([[2., 2., 2.],\n",
       "         [2., 2., 2.]], device='cuda:0', dtype=torch.float64),\n",
       " tensor([[1.5000, 1.5000, 1.5000],\n",
       "         [1.5000, 1.5000, 1.5000]], device='cuda:0', dtype=torch.float64))"
      ]
     },
     "execution_count": 92,
     "metadata": {},
     "output_type": "execute_result"
    }
   ],
   "source": [
    "#在torch下，torch.add可以对‘other’进行系数调整alpha,这样操作是在torch下面，返回一个新的内存\n",
    "a = torch.ones(2,3, dtype=float)\n",
    "b = torch.ones(2,3, dtype=float) * 0.5\n",
    "print(a)\n",
    "print(b)\n",
    "c = torch.add(a, b, alpha=2)\n",
    "d = torch.add(a, b, alpha=1)\n",
    "c,d"
   ]
  },
  {
   "cell_type": "code",
   "execution_count": 96,
   "id": "aa791b3d",
   "metadata": {},
   "outputs": [
    {
     "name": "stdout",
     "output_type": "stream",
     "text": [
      "tensor([[1., 1., 1.],\n",
      "        [1., 1., 1.]], device='cuda:0', dtype=torch.float64)\n",
      "tensor([[1., 1., 1.],\n",
      "        [1., 1., 1.]], device='cuda:0', dtype=torch.float64)\n"
     ]
    },
    {
     "data": {
      "text/plain": [
       "tensor([[1.5000, 1.5000, 1.5000],\n",
       "        [1.5000, 1.5000, 1.5000]], device='cuda:0', dtype=torch.float64)"
      ]
     },
     "execution_count": 96,
     "metadata": {},
     "output_type": "execute_result"
    }
   ],
   "source": [
    "#torch.tensor类有add和add_,add_是in-place\n",
    "a = torch.ones(2,3, dtype=float)\n",
    "print(a)\n",
    "a.add(b)\n",
    "print(a)\n",
    "a.add_(b)\n",
    "a\n"
   ]
  },
  {
   "cell_type": "code",
   "execution_count": 107,
   "id": "d33aba60",
   "metadata": {},
   "outputs": [
    {
     "name": "stdout",
     "output_type": "stream",
     "text": [
      "tensor([[0.5000, 0.5000, 0.5000],\n",
      "        [0.5000, 0.5000, 0.5000]], device='cuda:0', dtype=torch.float64)\n",
      "tensor([[0.5000, 0.5000, 0.5000],\n",
      "        [0.5000, 0.5000, 0.5000]], device='cuda:0', dtype=torch.float64)\n",
      "tensor([[0.5000, 0.5000, 0.5000],\n",
      "        [0.5000, 0.5000, 0.5000]], device='cuda:0', dtype=torch.float64)\n"
     ]
    }
   ],
   "source": [
    "a = torch.ones(2,3,dtype=float)\n",
    "b = torch.ones(2,3,dtype=float)\n",
    "\n",
    "print(a - 0.5*b)\n",
    "print(torch.sub(a,b,alpha=0.5))\n",
    "print(a.sub(b,alpha=0.5))"
   ]
  },
  {
   "cell_type": "code",
   "execution_count": 108,
   "id": "4792461c",
   "metadata": {},
   "outputs": [
    {
     "name": "stdout",
     "output_type": "stream",
     "text": [
      "tensor([[0.5000, 0.5000, 0.5000],\n",
      "        [0.5000, 0.5000, 0.5000]], device='cuda:0', dtype=torch.float64)\n",
      "tensor([[0.5000, 0.5000, 0.5000],\n",
      "        [0.5000, 0.5000, 0.5000]], device='cuda:0', dtype=torch.float64)\n",
      "tensor([[0.5000, 0.5000, 0.5000],\n",
      "        [0.5000, 0.5000, 0.5000]], device='cuda:0', dtype=torch.float64)\n"
     ]
    }
   ],
   "source": [
    "a = torch.ones(2,3,dtype=float)\n",
    "b = torch.ones(2,3,dtype=float) * 0.5\n",
    "\n",
    "print(a * b)\n",
    "print(torch.mul(a,b))\n",
    "print(a.mul(b))"
   ]
  },
  {
   "cell_type": "code",
   "execution_count": 109,
   "id": "b874e846",
   "metadata": {},
   "outputs": [
    {
     "name": "stdout",
     "output_type": "stream",
     "text": [
      "tensor([[2., 2., 2.],\n",
      "        [2., 2., 2.]], device='cuda:0', dtype=torch.float64)\n",
      "tensor([[2., 2., 2.],\n",
      "        [2., 2., 2.]], device='cuda:0', dtype=torch.float64)\n",
      "tensor([[2., 2., 2.],\n",
      "        [2., 2., 2.]], device='cuda:0', dtype=torch.float64)\n"
     ]
    }
   ],
   "source": [
    "a = torch.ones(2,3,dtype=float)\n",
    "b = torch.ones(2,3,dtype=float) * 0.5\n",
    "\n",
    "print(a / b)\n",
    "print(torch.div(a,b))\n",
    "print(a.div(b))"
   ]
  },
  {
   "cell_type": "code",
   "execution_count": 126,
   "id": "3584aca8",
   "metadata": {},
   "outputs": [
    {
     "name": "stdout",
     "output_type": "stream",
     "text": [
      "tensor([[0.2287, 0.9232, 0.9371],\n",
      "        [0.0013, 0.0935, 0.6021],\n",
      "        [0.2602, 0.9186, 0.0958],\n",
      "        [0.6490, 0.7521, 0.6141],\n",
      "        [0.5777, 0.5047, 0.5018]], device='cuda:0')\n",
      "tensor([0.9232, 0.0935, 0.9186, 0.7521, 0.5047], device='cuda:0')\n",
      "tensor([0.0013, 0.0935, 0.6021], device='cuda:0')\n",
      "tensor(0.0935, device='cuda:0')\n"
     ]
    },
    {
     "data": {
      "text/plain": [
       "0.0934663638472557"
      ]
     },
     "execution_count": 126,
     "metadata": {},
     "output_type": "execute_result"
    }
   ],
   "source": [
    "#切片\n",
    "x = torch.rand(5,3)\n",
    "print(x)\n",
    "print(x[:,1])\n",
    "print(x[1,:])\n",
    "print(x[1,1])\n",
    "x[1,1].item()"
   ]
  },
  {
   "cell_type": "code",
   "execution_count": 139,
   "id": "51663534",
   "metadata": {},
   "outputs": [
    {
     "name": "stdout",
     "output_type": "stream",
     "text": [
      "tensor([[0.3688, 0.4549, 0.7674, 0.6319],\n",
      "        [0.0536, 0.9655, 0.2839, 0.9806],\n",
      "        [0.7219, 0.0072, 0.3729, 0.1005],\n",
      "        [0.6671, 0.9396, 0.8792, 0.9851]], device='cuda:0')\n",
      "tensor([0.3688, 0.4549, 0.7674, 0.6319, 0.0536, 0.9655, 0.2839, 0.9806, 0.7219,\n",
      "        0.0072, 0.3729, 0.1005, 0.6671, 0.9396, 0.8792, 0.9851],\n",
      "       device='cuda:0')\n"
     ]
    },
    {
     "data": {
      "text/plain": [
       "(tensor([[0.3688, 0.4549, 0.7674, 0.6319, 0.0536, 0.9655, 0.2839, 0.9806],\n",
       "         [0.7219, 0.0072, 0.3729, 0.1005, 0.6671, 0.9396, 0.8792, 0.9851]],\n",
       "        device='cuda:0'),\n",
       " tensor([[0.3688, 0.4549, 0.7674, 0.6319, 0.0536, 0.9655, 0.2839, 0.9806],\n",
       "         [0.7219, 0.0072, 0.3729, 0.1005, 0.6671, 0.9396, 0.8792, 0.9851]],\n",
       "        device='cuda:0'),\n",
       " tensor([[0.3688, 0.4549, 0.7674, 0.6319],\n",
       "         [0.0536, 0.9655, 0.2839, 0.9806],\n",
       "         [0.7219, 0.0072, 0.3729, 0.1005],\n",
       "         [0.6671, 0.9396, 0.8792, 0.9851]], device='cuda:0'))"
      ]
     },
     "execution_count": 139,
     "metadata": {},
     "output_type": "execute_result"
    }
   ],
   "source": [
    "x = torch.rand(4,4)\n",
    "print(x)\n",
    "y = x.view(16)\n",
    "print(y)\n",
    "x.reshape(2,8), x.reshape(-1,8), x\n"
   ]
  },
  {
   "cell_type": "code",
   "execution_count": 186,
   "id": "87f02a70",
   "metadata": {},
   "outputs": [
    {
     "name": "stdout",
     "output_type": "stream",
     "text": [
      "gpu:  tensor([1., 1., 1., 1., 1.], device='cuda:0')\n",
      "cuda:0\n",
      "cpu:  tensor([1., 1., 1., 1., 1.])\n",
      "cpu\n",
      "cpu:  tensor([1., 1., 1., 1., 1.])\n",
      "cpu\n"
     ]
    }
   ],
   "source": [
    "#gpu to cpu\n",
    "a = torch.ones(5)\n",
    "print(\"gpu: \", a)\n",
    "print(a.device)\n",
    "\n",
    "#转为cpu\n",
    "b = a.cpu()\n",
    "print(\"cpu: \", b)\n",
    "print(b.device)\n",
    "\n",
    "#or\n",
    "c = a.to('cpu')\n",
    "print(\"cpu: \", b)\n",
    "print(c.device)"
   ]
  },
  {
   "cell_type": "code",
   "execution_count": 193,
   "id": "d1829edd",
   "metadata": {},
   "outputs": [
    {
     "name": "stdout",
     "output_type": "stream",
     "text": [
      "gpu:  tensor([1., 1., 1., 1., 1.])\n",
      "cpu\n",
      "gpu:  tensor([1., 1., 1., 1., 1.], device='cuda:0')\n",
      "cuda:0\n",
      "gpu:  tensor([1., 1., 1., 1., 1.], device='cuda:0')\n",
      "cuda:0\n"
     ]
    }
   ],
   "source": [
    "#cpu to gpu\n",
    "a = torch.ones(5, device='cpu')\n",
    "print(\"gpu: \", a)\n",
    "print(a.device)\n",
    "\n",
    "#转为gpu\n",
    "b = a.cuda()\n",
    "print(\"gpu: \", b)\n",
    "print(b.device)\n",
    "\n",
    "#or\n",
    "c = a.to('cuda')\n",
    "# c = a.to('cuda:0')\n",
    "print(\"gpu: \", b)\n",
    "print(c.device)"
   ]
  },
  {
   "cell_type": "code",
   "execution_count": 217,
   "id": "adaa45c8",
   "metadata": {},
   "outputs": [
    {
     "name": "stdout",
     "output_type": "stream",
     "text": [
      "gpu:  tensor([1., 1., 1., 1., 1.], device='cuda:0')\n",
      "\n",
      " cpu:  tensor([1., 1., 1., 1., 1.], dtype=torch.float64)\n",
      "cpu\n",
      "\n",
      " gpu:  tensor([1., 1., 1., 1., 1.], device='cuda:0')\n",
      "cuda:0\n",
      "\n",
      " numpy:  [1. 1. 1. 1. 1.]\n",
      "<class 'numpy.ndarray'>\n",
      "\n",
      " list:  [1.0, 1.0, 1.0, 1.0, 1.0]\n",
      "<class 'list'>\n",
      "\n",
      " numpy:  [1. 1. 1. 1. 1.]\n",
      "<class 'numpy.ndarray'>\n",
      "2285532617328\n",
      "\n",
      " cpu:  tensor([1., 1., 1., 1., 1.], dtype=torch.float64)\n",
      "cpu\n",
      "\n",
      " cpu:  tensor([1., 1., 1., 1., 1.], dtype=torch.float64)\n",
      "cpu\n",
      "2285532613520\n",
      "2285532612272\n"
     ]
    }
   ],
   "source": [
    "#gpu to cpu to gpu，这里默认是gpu\n",
    "a = torch.ones(5)\n",
    "print(\"gpu: \", a)\n",
    "\n",
    "#转为cpu\n",
    "a = a.cpu()\n",
    "print(\"\\n\", \"cpu: \", b)\n",
    "print(a.device)\n",
    "\n",
    "#转为gpu\n",
    "a = a.cuda()\n",
    "print(\"\\n\", \"gpu: \", a)\n",
    "print(a.device)\n",
    "\n",
    "#转为numpy,numpy只能接CPU，所以要从gpu先转成cpu\n",
    "a = a.cpu().numpy()\n",
    "print(\"\\n\", \"numpy: \", a)\n",
    "print(type(a))\n",
    "\n",
    "#转为list\n",
    "a = a.tolist()\n",
    "print(\"\\n\", \"list: \", a)\n",
    "print(type(a))\n",
    "\n",
    "#转numpy\n",
    "a = np.array(a)\n",
    "print(\"\\n\", \"numpy: \", a)\n",
    "print(type(a))\n",
    "print(id(a))\n",
    "\n",
    "#转为cpu\n",
    "b = torch.from_numpy(a)\n",
    "print(\"\\n\", \"cpu: \", b)\n",
    "print(b.device)\n",
    "\n",
    "c = torch.tensor(a, device='cpu')\n",
    "print(\"\\n\", \"cpu: \", c)\n",
    "print(c.device)\n",
    "\n",
    "print(id(b))\n",
    "print(id(c))\n"
   ]
  },
  {
   "cell_type": "code",
   "execution_count": 219,
   "id": "8ccaf387",
   "metadata": {},
   "outputs": [
    {
     "name": "stdout",
     "output_type": "stream",
     "text": [
      "[1. 1. 1. 1. 1.]\n",
      "tensor([1., 1., 1., 1., 1.], dtype=torch.float64)\n",
      "[2. 2. 2. 2. 2.]\n",
      "tensor([2., 2., 2., 2., 2.], dtype=torch.float64)\n"
     ]
    }
   ],
   "source": [
    "#torch.from_numpy复制相同的内存地址\n",
    "\n",
    "a = np.ones(5)\n",
    "print(a)\n",
    "b = torch.from_numpy(a)\n",
    "print(b)\n",
    "\n",
    "a += 1\n",
    "print(a)\n",
    "print(b)"
   ]
  },
  {
   "cell_type": "code",
   "execution_count": 220,
   "id": "6c4d8756",
   "metadata": {},
   "outputs": [
    {
     "name": "stdout",
     "output_type": "stream",
     "text": [
      "[1. 1. 1. 1. 1.]\n",
      "tensor([1., 1., 1., 1., 1.], device='cuda:0', dtype=torch.float64)\n",
      "[2. 2. 2. 2. 2.]\n",
      "tensor([1., 1., 1., 1., 1.], device='cuda:0', dtype=torch.float64)\n"
     ]
    }
   ],
   "source": [
    "a = np.ones(5)\n",
    "print(a)\n",
    "b = torch.tensor(a)\n",
    "print(b)\n",
    "\n",
    "a += 1\n",
    "print(a)\n",
    "print(b)"
   ]
  },
  {
   "cell_type": "code",
   "execution_count": 221,
   "id": "0c6bb75f",
   "metadata": {},
   "outputs": [
    {
     "name": "stdout",
     "output_type": "stream",
     "text": [
      "tensor([1., 1., 1., 1., 1.], device='cuda:0', requires_grad=True)\n"
     ]
    }
   ],
   "source": [
    "#require_grad\n",
    "\n",
    "a = torch.ones(5, requires_grad=True)\n",
    "print(a)"
   ]
  },
  {
   "cell_type": "code",
   "execution_count": null,
   "id": "5cf5c964",
   "metadata": {},
   "outputs": [],
   "source": []
  },
  {
   "cell_type": "code",
   "execution_count": null,
   "id": "af1fdba8",
   "metadata": {},
   "outputs": [],
   "source": []
  },
  {
   "cell_type": "code",
   "execution_count": null,
   "id": "36600a49",
   "metadata": {},
   "outputs": [],
   "source": []
  },
  {
   "cell_type": "code",
   "execution_count": null,
   "id": "91972cd3",
   "metadata": {},
   "outputs": [],
   "source": []
  }
 ],
 "metadata": {
  "kernelspec": {
   "display_name": "Python 3 (ipykernel)",
   "language": "python",
   "name": "python3"
  },
  "language_info": {
   "codemirror_mode": {
    "name": "ipython",
    "version": 3
   },
   "file_extension": ".py",
   "mimetype": "text/x-python",
   "name": "python",
   "nbconvert_exporter": "python",
   "pygments_lexer": "ipython3",
   "version": "3.11.7"
  }
 },
 "nbformat": 4,
 "nbformat_minor": 5
}
