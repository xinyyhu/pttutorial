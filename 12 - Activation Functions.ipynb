{
 "cells": [
  {
   "cell_type": "code",
   "execution_count": null,
   "metadata": {},
   "outputs": [],
   "source": []
  },
  {
   "cell_type": "markdown",
   "metadata": {},
   "source": [
    "- sigmoid函数，二分类问题的输出层，用在逻辑回归\n",
    "- tanH函数，scaled sigmoid函数，在-1~1之间\n",
    "- ReLU, 如果不知道用啥，就在隐藏层用ReLU\n",
    "- leaky ReLU, 负值区域有斜率，试图解决梯度消失的问题。当发现权重不更新的时候，可以用\n",
    "- softmax, 多分类问题输出层\n"
   ]
  },
  {
   "cell_type": "markdown",
   "metadata": {},
   "source": [
    "- option 1： 将激活函数和线性层分开"
   ]
  },
  {
   "cell_type": "code",
   "execution_count": 4,
   "metadata": {},
   "outputs": [],
   "source": [
    "import torch\n",
    "import torch.nn as nn\n",
    "import numpy as np\n",
    "import torch.nn.functional as F\n",
    "\n",
    "class NeuralNet(nn.Module):\n",
    "    def __init__(self, inputs_size, hidden_size):\n",
    "        super().__init__()\n",
    "        self.linear1 = nn.Linear(inputs_size, hidden_size)\n",
    "        self.relu = nn.ReLU()\n",
    "        nn.Sigmoid()\n",
    "        nn.Softmax()\n",
    "        nn.Tanh()\n",
    "        nn.LeakyReLU()\n",
    "        self.linear2 = nn.Linear(hidden_size, 1)\n",
    "        self.sigmoid = nn.Sigmoid()\n",
    "        \n",
    "    def forward(self, x):\n",
    "        out = self.linear1(x)\n",
    "        out = self.relu(out)\n",
    "        out = self.linear12(out)\n",
    "        out = self.sigmoid(out)\n",
    "        return out\n"
   ]
  },
  {
   "cell_type": "markdown",
   "metadata": {},
   "source": [
    "- option 2： 将激活函数直接用在线性层上"
   ]
  },
  {
   "cell_type": "code",
   "execution_count": 5,
   "metadata": {},
   "outputs": [],
   "source": [
    "import torch\n",
    "import torch.nn as nn\n",
    "import numpy as np\n",
    "import torch.nn.functional as F\n",
    "\n",
    "class NerualNet2(nn.Module):\n",
    "    def __init__(self, inputs_size, hidden_size):\n",
    "        super().__init__()\n",
    "        self.linear1 = nn.Linear(inputs_size, hidden_size)\n",
    "        self.linear2 = nn.Linear(hidden_size, 1)\n",
    "        \n",
    "    def forward(self, x):\n",
    "        # out = nn.ReLU(self.linear1(x))\n",
    "        # out = nn.Sigmoid(out)\n",
    "        out = torch.relu(self.linear1(x))\n",
    "        out = torch.sigmoid(out)\n",
    "        \n",
    "        torch.softmax()\n",
    "        torch.tanh()\n",
    "        torch.relu()\n",
    "        \n",
    "        F.sigmoid()\n",
    "        F.softmax()\n",
    "        F.tanh()\n",
    "        F.relu()\n",
    "        F.leaky_relu()"
   ]
  },
  {
   "cell_type": "code",
   "execution_count": null,
   "metadata": {},
   "outputs": [],
   "source": []
  },
  {
   "cell_type": "code",
   "execution_count": null,
   "metadata": {},
   "outputs": [],
   "source": []
  },
  {
   "cell_type": "code",
   "execution_count": null,
   "metadata": {},
   "outputs": [],
   "source": []
  }
 ],
 "metadata": {
  "kernelspec": {
   "display_name": "pytorch",
   "language": "python",
   "name": "python3"
  },
  "language_info": {
   "codemirror_mode": {
    "name": "ipython",
    "version": 3
   },
   "file_extension": ".py",
   "mimetype": "text/x-python",
   "name": "python",
   "nbconvert_exporter": "python",
   "pygments_lexer": "ipython3",
   "version": "3.11.7"
  }
 },
 "nbformat": 4,
 "nbformat_minor": 2
}
