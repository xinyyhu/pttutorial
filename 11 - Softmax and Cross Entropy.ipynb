{
 "cells": [
  {
   "cell_type": "code",
   "execution_count": 6,
   "metadata": {},
   "outputs": [],
   "source": [
    "import torch\n",
    "import torch.nn as nn\n",
    "import numpy as np\n"
   ]
  },
  {
   "cell_type": "markdown",
   "metadata": {},
   "source": [
    "# sofimax"
   ]
  },
  {
   "cell_type": "markdown",
   "metadata": {},
   "source": [
    "- softmax with numpy"
   ]
  },
  {
   "cell_type": "code",
   "execution_count": 17,
   "metadata": {},
   "outputs": [
    {
     "name": "stdout",
     "output_type": "stream",
     "text": [
      "softmax with numpy:[0.65900114 0.24243297 0.09856589]\n"
     ]
    }
   ],
   "source": [
    "import torch\n",
    "import torch.nn as nn\n",
    "import numpy as np\n",
    "\n",
    "def softmax(x):\n",
    "    return np.exp(x) / np.sum(np.exp(x), axis=0)\n",
    "# 数组 / 标量，用到了向量化操作，可以不用python的循环\n",
    "\n",
    "x = np.array([2.0, 1.0, 0.1])\n",
    "outputs_x = softmax(x)\n",
    "print(f'softmax with numpy:{outputs_x}')"
   ]
  },
  {
   "cell_type": "markdown",
   "metadata": {},
   "source": [
    "- softmax with pytorch"
   ]
  },
  {
   "cell_type": "code",
   "execution_count": 23,
   "metadata": {},
   "outputs": [
    {
     "name": "stdout",
     "output_type": "stream",
     "text": [
      "softmax_pytorch: \n",
      "tensor([0.6590, 0.2424, 0.0986]) \n",
      "tensor([0.6590, 0.2424, 0.0986])\n"
     ]
    }
   ],
   "source": [
    "import torch\n",
    "import torch.nn as nn\n",
    "import numpy as np\n",
    "\n",
    "y = torch.tensor([2.0, 1.0, 0.1], dtype=torch.float32)\n",
    "outputs_y_1 = torch.softmax(y, dim=0)    # 要指定轴\n",
    "outputs_y_2 = y.softmax(dim=0)           # 另一种方法\n",
    "print(f'softmax_pytorch: \\n{outputs_y_1} \\n{outputs_y_2}')\n"
   ]
  },
  {
   "cell_type": "markdown",
   "metadata": {},
   "source": [
    "# crossentropy"
   ]
  },
  {
   "cell_type": "markdown",
   "metadata": {},
   "source": [
    "- cross-entropy\n",
    "  数值越低越好，独热编码和概率的乘积"
   ]
  },
  {
   "cell_type": "markdown",
   "metadata": {},
   "source": [
    "- cross entropy with numpy"
   ]
  },
  {
   "cell_type": "code",
   "execution_count": 3,
   "metadata": {},
   "outputs": [
    {
     "name": "stdout",
     "output_type": "stream",
     "text": [
      "Loss_good with numpy: 0.3567\n",
      "Loss_bad with numpy: 2.3026\n"
     ]
    }
   ],
   "source": [
    "import torch\n",
    "import torch.nn as nn\n",
    "import numpy as np\n",
    "\n",
    "def cross_entropy(actual, predicted):\n",
    "    loss = -np.sum(actual * np.log(predicted))\n",
    "    return loss # / float(predicted.shape[0])\n",
    "\n",
    "# target\n",
    "Y = np.array([1, 0, 0])\n",
    "# inputs\n",
    "Y_pred_good = np.array([0.7, 0.2, 0.1])\n",
    "Y_pred_bad = np.array([0.1, 0.3, 0.6])\n",
    "l1 = cross_entropy(Y, Y_pred_good)\n",
    "l2 = cross_entropy(Y, Y_pred_bad)\n",
    "print(f'Loss_good with numpy: {l1:.4f}')\n",
    "print(f'Loss_bad with numpy: {l2:.4f}')\n",
    "\n"
   ]
  },
  {
   "cell_type": "markdown",
   "metadata": {},
   "source": [
    "- cross entropy with pytorch\n",
    "1. nn.crossentropy 同时实现了nn.LogSoftmax + nn.NLLLoss, 所以不要再加softmax层\n",
    "2. inputs（预测的值）是模型的原始得分（raw scores），这个类会先对inputs应用LogSoftmax类\n",
    "3. target，是类索引（class indices）,计算上一步得到的log值与target的负对数似然损失，这里targets是类别的索引而不是独热编码，但索引和独热的效果是一样的，提高了计算效率\n",
    "\n",
    "\n",
    "4. 官方文档里还有另一种情况"
   ]
  },
  {
   "cell_type": "markdown",
   "metadata": {},
   "source": [
    "- 一个samples"
   ]
  },
  {
   "cell_type": "code",
   "execution_count": 6,
   "metadata": {},
   "outputs": [
    {
     "name": "stdout",
     "output_type": "stream",
     "text": [
      "loss1: 0.4170299470424652\n",
      "loss2: 1.840616226196289\n",
      "prediction1: torch.return_types.max(\n",
      "values=tensor([2.]),\n",
      "indices=tensor([0]))\n",
      "prediction1: torch.return_types.max(\n",
      "values=tensor([2.]),\n",
      "indices=tensor([1]))\n",
      "prediction1: tensor([2.]) tensor([0])\n",
      "prediction2: tensor([2.]) tensor([1])\n"
     ]
    }
   ],
   "source": [
    "import torch\n",
    "import torch.nn as nn\n",
    "import numpy as np\n",
    "\n",
    "loss = nn.CrossEntropyLoss()\n",
    "\n",
    "# 对应“正确”的类的索引\n",
    "Y = torch.tensor([0])    \n",
    "\n",
    "# inputs，n_amples * n_classes = 1 * 3\n",
    "Y_pred_good = torch.tensor([[2.0, 1.0, 0.1]])\n",
    "Y_pred_bad = torch.tensor([[0.5, 2.0, 0.3]])\n",
    "\n",
    "loss1 = loss(Y_pred_good, Y)\n",
    "loss2 = loss(Y_pred_bad, Y)\n",
    "\n",
    "print(f'loss1: {loss1}')\n",
    "print(f'loss2: {loss2}')\n",
    "\n",
    "prediction1 = torch.max(Y_pred_good, 1)   # dim=1是沿着1轴，即统计行的数据\n",
    "prediction2 = torch.max(Y_pred_bad, 1)\n",
    "print(f'prediction1: {prediction1}')\n",
    "print(f'prediction1: {prediction2}')\n",
    "\n",
    "prediction1_max, prediction1_index = torch.max(Y_pred_good, 1)\n",
    "prediction2_max, prediction2_index = torch.max(Y_pred_bad, dim=1)\n",
    "print(f'prediction1: {prediction1_max} {prediction1_index}')\n",
    "print(f'prediction2: {prediction2_max} {prediction2_index}')\n",
    "\n",
    "\n"
   ]
  },
  {
   "cell_type": "markdown",
   "metadata": {},
   "source": [
    "- 多个samples"
   ]
  },
  {
   "cell_type": "code",
   "execution_count": 9,
   "metadata": {},
   "outputs": [
    {
     "name": "stdout",
     "output_type": "stream",
     "text": [
      "loss1: 0.3018244206905365\n",
      "loss2: 1.6241613626480103\n",
      "prediction1: tensor([2.1000, 2.0000, 3.0000]) tensor([2, 0, 1])\n",
      "prediction2: tensor([2.1000, 2.1000, 3.0000]) tensor([0, 2, 1])\n"
     ]
    }
   ],
   "source": [
    "import torch\n",
    "import torch.nn as nn\n",
    "import numpy as np\n",
    "\n",
    "loss = nn.CrossEntropyLoss()\n",
    "\n",
    "# 对应“正确”的类的索引\n",
    "Y = torch.tensor([2, 0, 1])    \n",
    "\n",
    "# inputs，n_amples * n_classes = 3 * 3\n",
    "Y_pred_good = torch.tensor([[0.1, 1.0, 2.1],\n",
    "                            [2.0, 1.0, 0.1],\n",
    "                            [0.1, 3.0, 0.1]])\n",
    "Y_pred_bad = torch.tensor([[2.1, 1.0, 0.1],\n",
    "                           [0.1, 1.0, 2.1],\n",
    "                           [0.1, 3.0, 0.1]])\n",
    "\n",
    "loss1 = loss(Y_pred_good, Y)\n",
    "loss2 = loss(Y_pred_bad, Y)\n",
    "\n",
    "print(f'loss1: {loss1}')\n",
    "print(f'loss2: {loss2}')\n",
    "\n",
    "# prediction1 = torch.max(Y_pred_good, 1)   # dim=1是沿着1轴，即统计行的数据\n",
    "# prediction2 = torch.max(Y_pred_bad, 1)\n",
    "# print(f'prediction1: {prediction1}')\n",
    "# print(f'prediction1: {prediction2}')\n",
    "\n",
    "prediction1_max, prediction1_index = torch.max(Y_pred_good, 1)\n",
    "prediction2_max, prediction2_index = torch.max(Y_pred_bad, dim=1)\n",
    "print(f'prediction1: {prediction1_max} {prediction1_index}')\n",
    "print(f'prediction2: {prediction2_max} {prediction2_index}')\n",
    "\n"
   ]
  },
  {
   "cell_type": "markdown",
   "metadata": {},
   "source": [
    "torch.crossentropyloss的传参**reduction**有三种参数，默认是**mean**，还有**none**和**sum**，注意是字符串格式"
   ]
  },
  {
   "cell_type": "code",
   "execution_count": 14,
   "metadata": {},
   "outputs": [
    {
     "name": "stdout",
     "output_type": "stream",
     "text": [
      "loss1: 0.9054732322692871\n",
      "loss2: 4.87248420715332\n",
      "prediction1: tensor([2.1000, 2.0000, 3.0000]) tensor([2, 0, 1])\n",
      "prediction2: tensor([2.1000, 2.1000, 3.0000]) tensor([0, 2, 1])\n"
     ]
    }
   ],
   "source": [
    "import torch\n",
    "import torch.nn as nn\n",
    "import numpy as np\n",
    "\n",
    "loss = nn.CrossEntropyLoss(reduction='sum')\n",
    "\n",
    "# 对应“正确”的类的索引\n",
    "Y = torch.tensor([2, 0, 1])    \n",
    "\n",
    "# inputs，n_amples * n_classes = 3 * 3\n",
    "Y_pred_good = torch.tensor([[0.1, 1.0, 2.1],\n",
    "                            [2.0, 1.0, 0.1],\n",
    "                            [0.1, 3.0, 0.1]])\n",
    "Y_pred_bad = torch.tensor([[2.1, 1.0, 0.1],\n",
    "                           [0.1, 1.0, 2.1],\n",
    "                           [0.1, 3.0, 0.1]])\n",
    "\n",
    "loss1 = loss(Y_pred_good, Y)\n",
    "loss2 = loss(Y_pred_bad, Y)\n",
    "\n",
    "print(f'loss1: {loss1}')\n",
    "print(f'loss2: {loss2}')\n",
    "\n",
    "# prediction1 = torch.max(Y_pred_good, 1)   # dim=1是沿着1轴，即统计行的数据\n",
    "# prediction2 = torch.max(Y_pred_bad, 1)\n",
    "# print(f'prediction1: {prediction1}')\n",
    "# print(f'prediction1: {prediction2}')\n",
    "\n",
    "prediction1_max, prediction1_index = torch.max(Y_pred_good, 1)\n",
    "prediction2_max, prediction2_index = torch.max(Y_pred_bad, dim=1)\n",
    "print(f'prediction1: {prediction1_max} {prediction1_index}')\n",
    "print(f'prediction2: {prediction2_max} {prediction2_index}')\n",
    "\n"
   ]
  },
  {
   "cell_type": "code",
   "execution_count": 15,
   "metadata": {},
   "outputs": [
    {
     "name": "stdout",
     "output_type": "stream",
     "text": [
      "loss1: tensor([0.3840, 0.4170, 0.1044])\n",
      "loss2: tensor([2.3840, 2.3840, 0.1044])\n",
      "prediction1: tensor([2.1000, 2.0000, 3.0000]) tensor([2, 0, 1])\n",
      "prediction2: tensor([2.1000, 2.1000, 3.0000]) tensor([0, 2, 1])\n"
     ]
    }
   ],
   "source": [
    "import torch\n",
    "import torch.nn as nn\n",
    "import numpy as np\n",
    "\n",
    "loss = nn.CrossEntropyLoss(reduction='none')\n",
    "\n",
    "# 对应“正确”的类的索引\n",
    "Y = torch.tensor([2, 0, 1])    \n",
    "\n",
    "# inputs，n_amples * n_classes = 3 * 3\n",
    "Y_pred_good = torch.tensor([[0.1, 1.0, 2.1],\n",
    "                            [2.0, 1.0, 0.1],\n",
    "                            [0.1, 3.0, 0.1]])\n",
    "Y_pred_bad = torch.tensor([[2.1, 1.0, 0.1],\n",
    "                           [0.1, 1.0, 2.1],\n",
    "                           [0.1, 3.0, 0.1]])\n",
    "\n",
    "loss1 = loss(Y_pred_good, Y)\n",
    "loss2 = loss(Y_pred_bad, Y)\n",
    "\n",
    "print(f'loss1: {loss1}')\n",
    "print(f'loss2: {loss2}')\n",
    "\n",
    "# prediction1 = torch.max(Y_pred_good, 1)   # dim=1是沿着1轴，即统计行的数据\n",
    "# prediction2 = torch.max(Y_pred_bad, 1)\n",
    "# print(f'prediction1: {prediction1}')\n",
    "# print(f'prediction1: {prediction2}')\n",
    "\n",
    "prediction1_max, prediction1_index = torch.max(Y_pred_good, 1)\n",
    "prediction2_max, prediction2_index = torch.max(Y_pred_bad, dim=1)\n",
    "print(f'prediction1: {prediction1_max} {prediction1_index}')\n",
    "print(f'prediction2: {prediction2_max} {prediction2_index}')\n",
    "\n"
   ]
  },
  {
   "cell_type": "markdown",
   "metadata": {},
   "source": [
    "- nn with pytorch for softmax, multi-classes\n",
    "\n",
    "因为nn的crossentropy包含了softmax，所以定义的网络里不要有softmax"
   ]
  },
  {
   "cell_type": "code",
   "execution_count": 17,
   "metadata": {},
   "outputs": [],
   "source": [
    "import torch\n",
    "import torch.nn as nn\n",
    "import numpy as np\n",
    "\n",
    "\n",
    "# multi-classes problem\n",
    "class NeuralNet2(nn.Module):\n",
    "    def __init__(self, inputs_size, hidden_size, num_classes):\n",
    "        super().__init__()\n",
    "        self.linear1 = nn.Linear(inputs_size, hidden_size)\n",
    "        self.relu = nn.ReLU()\n",
    "        self.linear2 = nn.Linear(hidden_size, num_classes)\n",
    "        \n",
    "    def forward(self, x):\n",
    "        out = self.linear1(x)\n",
    "        out = self.relu(out)\n",
    "        out = self.linear2(out)\n",
    "        # no softmax at the end\n",
    "        return out\n",
    "\n",
    "model = NeuralNet2(inputs_size=28*28, hidden_size=5, num_classes=3)\n",
    "criterion = nn.CrossEntropyLoss()\n",
    "\n",
    "\n",
    "\n"
   ]
  },
  {
   "cell_type": "markdown",
   "metadata": {},
   "source": [
    "binary-class,loss用了BCEloss，是crossentropyloss的binary"
   ]
  },
  {
   "cell_type": "code",
   "execution_count": null,
   "metadata": {},
   "outputs": [],
   "source": [
    "import torch\n",
    "import torch.nn as nn\n",
    "import numpy as np\n",
    "\n",
    "\n",
    "# binary-class problem\n",
    "class NeuralNet2(nn.Module):\n",
    "    def __init__(self, inputs_size, hidden_size):\n",
    "        super().__init__()\n",
    "        self.linear1 = nn.Linear(inputs_size, hidden_size)\n",
    "        self.relu = nn.ReLU()\n",
    "        self.linear2 = nn.Linear(hidden_size, 1)\n",
    "        \n",
    "    def forward(self, x):\n",
    "        out = self.linear1(x)\n",
    "        out = self.relu(out)\n",
    "        out = self.linear2(out)\n",
    "        # no softmax at the end\n",
    "        y_pred = torch.sigmoid(out)\n",
    "        return y_pred\n",
    "\n",
    "model = NeuralNet2(inputs_size=28*28, hidden_size=5)\n",
    "criterion = nn.BCELoss()"
   ]
  },
  {
   "cell_type": "code",
   "execution_count": null,
   "metadata": {},
   "outputs": [],
   "source": []
  },
  {
   "cell_type": "code",
   "execution_count": null,
   "metadata": {},
   "outputs": [],
   "source": []
  },
  {
   "cell_type": "code",
   "execution_count": null,
   "metadata": {},
   "outputs": [],
   "source": []
  },
  {
   "cell_type": "code",
   "execution_count": null,
   "metadata": {},
   "outputs": [],
   "source": []
  },
  {
   "cell_type": "code",
   "execution_count": null,
   "metadata": {},
   "outputs": [],
   "source": []
  }
 ],
 "metadata": {
  "kernelspec": {
   "display_name": "pytorch",
   "language": "python",
   "name": "python3"
  },
  "language_info": {
   "codemirror_mode": {
    "name": "ipython",
    "version": 3
   },
   "file_extension": ".py",
   "mimetype": "text/x-python",
   "name": "python",
   "nbconvert_exporter": "python",
   "pygments_lexer": "ipython3",
   "version": "3.11.7"
  }
 },
 "nbformat": 4,
 "nbformat_minor": 2
}
